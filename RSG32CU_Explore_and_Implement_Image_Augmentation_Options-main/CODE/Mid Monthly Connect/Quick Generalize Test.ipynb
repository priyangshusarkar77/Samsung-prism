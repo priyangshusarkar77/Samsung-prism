{
 "cells": [
  {
   "cell_type": "markdown",
   "id": "51edfa59",
   "metadata": {},
   "source": [
    "We are using this notebook to perform the testing"
   ]
  },
  {
   "cell_type": "code",
   "execution_count": null,
   "id": "f065ec06",
   "metadata": {},
   "outputs": [],
   "source": [
    "# Importing required libraries\n",
    "import tensorflow as tf\n",
    "import pathlib as pl\n",
    "import numpy as np\n",
    "import matplotlib.pyplot as plt\n",
    "from tensorflow.keras.models import load_model\n",
    "import cv2 as cv\n",
    "import os"
   ]
  },
  {
   "cell_type": "code",
   "execution_count": 3,
   "id": "960e8781",
   "metadata": {},
   "outputs": [],
   "source": [
    "file_path = r\"\" # Provide the folder path\n",
    "pathlib_file = pl.Path(file_path)\n",
    "class_names = np.array(sorted(item.name for item in pathlib_file.glob(\"*\")))"
   ]
  },
  {
   "cell_type": "code",
   "execution_count": 14,
   "id": "2580e576",
   "metadata": {},
   "outputs": [],
   "source": [
    "model = load_model(r\"\")  # Provide the model path"
   ]
  },
  {
   "cell_type": "code",
   "execution_count": 5,
   "id": "225b9ef3",
   "metadata": {},
   "outputs": [
    {
     "name": "stdout",
     "output_type": "stream",
     "text": [
      "Model: \"model\"\n",
      "__________________________________________________________________________________________________\n",
      " Layer (type)                   Output Shape         Param #     Connected to                     \n",
      "==================================================================================================\n",
      " input_1 (InputLayer)           [(None, 300, 300, 3  0           []                               \n",
      "                                )]                                                                \n",
      "                                                                                                  \n",
      " trainable11 (Conv2D)           (None, 300, 300, 32  416         ['input_1[0][0]']                \n",
      "                                )                                                                 \n",
      "                                                                                                  \n",
      " trainable21 (Conv2D)           (None, 300, 300, 32  896         ['input_1[0][0]']                \n",
      "                                )                                                                 \n",
      "                                                                                                  \n",
      " nontrainable11 (Conv2D)        (None, 300, 300, 32  416         ['input_1[0][0]']                \n",
      "                                )                                                                 \n",
      "                                                                                                  \n",
      " nontrainable21 (Conv2D)        (None, 300, 300, 32  896         ['input_1[0][0]']                \n",
      "                                )                                                                 \n",
      "                                                                                                  \n",
      " nontrainable31 (Conv2D)        (None, 300, 300, 32  416         ['input_1[0][0]']                \n",
      "                                )                                                                 \n",
      "                                                                                                  \n",
      " nontrainable41 (Conv2D)        (None, 300, 300, 32  896         ['input_1[0][0]']                \n",
      "                                )                                                                 \n",
      "                                                                                                  \n",
      " nontrainable51 (Conv2D)        (None, 300, 300, 32  416         ['input_1[0][0]']                \n",
      "                                )                                                                 \n",
      "                                                                                                  \n",
      " nontrainable61 (Conv2D)        (None, 300, 300, 32  896         ['input_1[0][0]']                \n",
      "                                )                                                                 \n",
      "                                                                                                  \n",
      " nontrainable71 (Conv2D)        (None, 300, 300, 32  416         ['input_1[0][0]']                \n",
      "                                )                                                                 \n",
      "                                                                                                  \n",
      " nontrainable81 (Conv2D)        (None, 300, 300, 32  896         ['input_1[0][0]']                \n",
      "                                )                                                                 \n",
      "                                                                                                  \n",
      " nontrainable91 (Conv2D)        (None, 300, 300, 32  416         ['input_1[0][0]']                \n",
      "                                )                                                                 \n",
      "                                                                                                  \n",
      " nontrainable101 (Conv2D)       (None, 300, 300, 32  896         ['input_1[0][0]']                \n",
      "                                )                                                                 \n",
      "                                                                                                  \n",
      " leaky_re_lu (LeakyReLU)        (None, 300, 300, 32  0           ['trainable11[0][0]']            \n",
      "                                )                                                                 \n",
      "                                                                                                  \n",
      " leaky_re_lu_1 (LeakyReLU)      (None, 300, 300, 32  0           ['trainable21[0][0]']            \n",
      "                                )                                                                 \n",
      "                                                                                                  \n",
      " leaky_re_lu_2 (LeakyReLU)      (None, 300, 300, 32  0           ['nontrainable11[0][0]']         \n",
      "                                )                                                                 \n",
      "                                                                                                  \n",
      " leaky_re_lu_3 (LeakyReLU)      (None, 300, 300, 32  0           ['nontrainable21[0][0]']         \n",
      "                                )                                                                 \n",
      "                                                                                                  \n",
      " leaky_re_lu_4 (LeakyReLU)      (None, 300, 300, 32  0           ['nontrainable31[0][0]']         \n",
      "                                )                                                                 \n",
      "                                                                                                  \n",
      " leaky_re_lu_5 (LeakyReLU)      (None, 300, 300, 32  0           ['nontrainable41[0][0]']         \n",
      "                                )                                                                 \n",
      "                                                                                                  \n",
      " leaky_re_lu_6 (LeakyReLU)      (None, 300, 300, 32  0           ['nontrainable51[0][0]']         \n",
      "                                )                                                                 \n",
      "                                                                                                  \n",
      " leaky_re_lu_7 (LeakyReLU)      (None, 300, 300, 32  0           ['nontrainable61[0][0]']         \n",
      "                                )                                                                 \n",
      "                                                                                                  \n",
      " leaky_re_lu_8 (LeakyReLU)      (None, 300, 300, 32  0           ['nontrainable71[0][0]']         \n",
      "                                )                                                                 \n",
      "                                                                                                  \n",
      " leaky_re_lu_9 (LeakyReLU)      (None, 300, 300, 32  0           ['nontrainable81[0][0]']         \n",
      "                                )                                                                 \n",
      "                                                                                                  \n",
      " leaky_re_lu_10 (LeakyReLU)     (None, 300, 300, 32  0           ['nontrainable91[0][0]']         \n",
      "                                )                                                                 \n",
      "                                                                                                  \n",
      " leaky_re_lu_11 (LeakyReLU)     (None, 300, 300, 32  0           ['nontrainable101[0][0]']        \n",
      "                                )                                                                 \n",
      "                                                                                                  \n",
      " add (Add)                      (None, 300, 300, 32  0           ['leaky_re_lu[0][0]',            \n",
      "                                )                                 'leaky_re_lu_1[0][0]']          \n",
      "                                                                                                  \n",
      " add_1 (Add)                    (None, 300, 300, 32  0           ['leaky_re_lu_2[0][0]',          \n",
      "                                )                                 'leaky_re_lu_3[0][0]']          \n"
     ]
    },
    {
     "name": "stdout",
     "output_type": "stream",
     "text": [
      "                                                                                                  \n",
      " add_2 (Add)                    (None, 300, 300, 32  0           ['leaky_re_lu_4[0][0]',          \n",
      "                                )                                 'leaky_re_lu_5[0][0]']          \n",
      "                                                                                                  \n",
      " add_3 (Add)                    (None, 300, 300, 32  0           ['leaky_re_lu_6[0][0]',          \n",
      "                                )                                 'leaky_re_lu_7[0][0]']          \n",
      "                                                                                                  \n",
      " add_4 (Add)                    (None, 300, 300, 32  0           ['leaky_re_lu_8[0][0]',          \n",
      "                                )                                 'leaky_re_lu_9[0][0]']          \n",
      "                                                                                                  \n",
      " add_5 (Add)                    (None, 300, 300, 32  0           ['leaky_re_lu_10[0][0]',         \n",
      "                                )                                 'leaky_re_lu_11[0][0]']         \n",
      "                                                                                                  \n",
      " add_6 (Add)                    (None, 300, 300, 32  0           ['add[0][0]',                    \n",
      "                                )                                 'add_1[0][0]',                  \n",
      "                                                                  'add_2[0][0]',                  \n",
      "                                                                  'add_3[0][0]',                  \n",
      "                                                                  'add_4[0][0]',                  \n",
      "                                                                  'add_5[0][0]']                  \n",
      "                                                                                                  \n",
      " conv2d (Conv2D)                (None, 300, 300, 32  896         ['input_1[0][0]']                \n",
      "                                )                                                                 \n",
      "                                                                                                  \n",
      " batch_normalization (BatchNorm  (None, 300, 300, 32  128        ['add_6[0][0]']                  \n",
      " alization)                     )                                                                 \n",
      "                                                                                                  \n",
      " leaky_re_lu_12 (LeakyReLU)     (None, 300, 300, 32  0           ['conv2d[0][0]']                 \n",
      "                                )                                                                 \n",
      "                                                                                                  \n",
      " add_7 (Add)                    (None, 300, 300, 32  0           ['batch_normalization[0][0]',    \n",
      "                                )                                 'leaky_re_lu_12[0][0]']         \n",
      "                                                                                                  \n",
      " blur1 (DepthwiseConv2D)        (None, 300, 300, 32  128         ['add_7[0][0]']                  \n",
      "                                )                                                                 \n",
      "                                                                                                  \n",
      " max_pooling2d (MaxPooling2D)   (None, 150, 150, 32  0           ['blur1[0][0]']                  \n",
      "                                )                                                                 \n",
      "                                                                                                  \n",
      " trainable112 (Conv2D)          (None, 150, 150, 64  18496       ['max_pooling2d[0][0]']          \n",
      "                                )                                                                 \n",
      "                                                                                                  \n",
      " nontrainable112 (Conv2D)       (None, 150, 150, 64  18496       ['max_pooling2d[0][0]']          \n",
      "                                )                                                                 \n",
      "                                                                                                  \n",
      " nontrainable122 (Conv2D)       (None, 150, 150, 64  18496       ['max_pooling2d[0][0]']          \n",
      "                                )                                                                 \n",
      "                                                                                                  \n",
      " nontrainable132 (Conv2D)       (None, 150, 150, 64  18496       ['max_pooling2d[0][0]']          \n",
      "                                )                                                                 \n",
      "                                                                                                  \n",
      " maximum (Maximum)              (None, 150, 150, 64  0           ['trainable112[0][0]',           \n",
      "                                )                                 'nontrainable112[0][0]',        \n",
      "                                                                  'nontrainable122[0][0]',        \n",
      "                                                                  'nontrainable132[0][0]']        \n",
      "                                                                                                  \n",
      " batch_normalization_1 (BatchNo  (None, 150, 150, 64  256        ['maximum[0][0]']                \n",
      " rmalization)                   )                                                                 \n",
      "                                                                                                  \n",
      " blur2 (DepthwiseConv2D)        (None, 150, 150, 64  256         ['batch_normalization_1[0][0]']  \n",
      "                                )                                                                 \n",
      "                                                                                                  \n",
      " max_pooling2d_1 (MaxPooling2D)  (None, 75, 75, 64)  0           ['blur2[0][0]']                  \n",
      "                                                                                                  \n",
      " trainable113 (Conv2D)          (None, 75, 75, 128)  73856       ['max_pooling2d_1[0][0]']        \n",
      "                                                                                                  \n",
      " nontrainable113 (Conv2D)       (None, 75, 75, 128)  73856       ['max_pooling2d_1[0][0]']        \n",
      "                                                                                                  \n",
      " nontrainable123 (Conv2D)       (None, 75, 75, 128)  73856       ['max_pooling2d_1[0][0]']        \n",
      "                                                                                                  \n",
      " nontrainable133 (Conv2D)       (None, 75, 75, 128)  73856       ['max_pooling2d_1[0][0]']        \n",
      "                                                                                                  \n",
      " maximum_1 (Maximum)            (None, 75, 75, 128)  0           ['trainable113[0][0]',           \n",
      "                                                                  'nontrainable113[0][0]',        \n",
      "                                                                  'nontrainable123[0][0]',        \n",
      "                                                                  'nontrainable133[0][0]']        \n",
      "                                                                                                  \n",
      " batch_normalization_2 (BatchNo  (None, 75, 75, 128)  512        ['maximum_1[0][0]']              \n",
      " rmalization)                                                                                     \n",
      "                                                                                                  \n",
      " blur3 (DepthwiseConv2D)        (None, 75, 75, 128)  512         ['batch_normalization_2[0][0]']  \n",
      "                                                                                                  \n",
      " max_pooling2d_2 (MaxPooling2D)  (None, 37, 37, 128)  0          ['blur3[0][0]']                  \n",
      "                                                                                                  \n"
     ]
    },
    {
     "name": "stdout",
     "output_type": "stream",
     "text": [
      " trainable114 (Conv2D)          (None, 37, 37, 256)  295168      ['max_pooling2d_2[0][0]']        \n",
      "                                                                                                  \n",
      " nontrainable114 (Conv2D)       (None, 37, 37, 256)  295168      ['max_pooling2d_2[0][0]']        \n",
      "                                                                                                  \n",
      " nontrainable124 (Conv2D)       (None, 37, 37, 256)  295168      ['max_pooling2d_2[0][0]']        \n",
      "                                                                                                  \n",
      " nontrainable134 (Conv2D)       (None, 37, 37, 256)  295168      ['max_pooling2d_2[0][0]']        \n",
      "                                                                                                  \n",
      " maximum_2 (Maximum)            (None, 37, 37, 256)  0           ['trainable114[0][0]',           \n",
      "                                                                  'nontrainable114[0][0]',        \n",
      "                                                                  'nontrainable124[0][0]',        \n",
      "                                                                  'nontrainable134[0][0]']        \n",
      "                                                                                                  \n",
      " batch_normalization_3 (BatchNo  (None, 37, 37, 256)  1024       ['maximum_2[0][0]']              \n",
      " rmalization)                                                                                     \n",
      "                                                                                                  \n",
      " blur4 (DepthwiseConv2D)        (None, 37, 37, 256)  1024        ['batch_normalization_3[0][0]']  \n",
      "                                                                                                  \n",
      " max_pooling2d_3 (MaxPooling2D)  (None, 18, 18, 256)  0          ['blur4[0][0]']                  \n",
      "                                                                                                  \n",
      " dropout (Dropout)              (None, 18, 18, 256)  0           ['max_pooling2d_3[0][0]']        \n",
      "                                                                                                  \n",
      " global_max_pooling2d (GlobalMa  (None, 256)         0           ['dropout[0][0]']                \n",
      " xPooling2D)                                                                                      \n",
      "                                                                                                  \n",
      " dense (Dense)                  (None, 3)            771         ['global_max_pooling2d[0][0]']   \n",
      "                                                                                                  \n",
      "==================================================================================================\n",
      "Total params: 1,563,459\n",
      "Trainable params: 1,554,787\n",
      "Non-trainable params: 8,672\n",
      "__________________________________________________________________________________________________\n"
     ]
    }
   ],
   "source": [
    "model.summary()"
   ]
  },
  {
   "cell_type": "code",
   "execution_count": 6,
   "id": "79ab2dbd",
   "metadata": {},
   "outputs": [],
   "source": [
    "def process_img(image, file_name):\n",
    "    try:\n",
    "        img = tf.io.decode_image(contents = image, channels=3, expand_animations=False)\n",
    "        img = tf.image.resize(img, [300, 300])     \n",
    "        return img\n",
    "    except tf.errors.InvalidArgumentError as e:\n",
    "        os.remove(file_name)\n",
    "def process_data(file_name):\n",
    "    img = tf.io.read_file(file_name)\n",
    "    img = process_img(img, file_name)\n",
    "    img = img/255.0\n",
    "    return img\n",
    "AUTOTUNE = tf.data.AUTOTUNE\n",
    "def configure_inputs_train(data_set):\n",
    "    data_set = data_set.batch(batch_size=8)\n",
    "    data_set = data_set.prefetch(buffer_size=AUTOTUNE)\n",
    "    return data_set"
   ]
  },
  {
   "cell_type": "code",
   "execution_count": 7,
   "id": "82ca51f4",
   "metadata": {},
   "outputs": [],
   "source": [
    "cat_file= pl.Path(file_path + \"\\\\\" + \"Cat\")\n",
    "dog_file = pl.Path(file_path + \"\\\\\" + \"Dog\")"
   ]
  },
  {
   "cell_type": "code",
   "execution_count": 8,
   "id": "65b533fe",
   "metadata": {},
   "outputs": [],
   "source": [
    "cat_file_list = list(cat_file.glob(\"*\"))\n",
    "dog_file_list = list(dog_file.glob(\"*\"))"
   ]
  },
  {
   "cell_type": "code",
   "execution_count": 9,
   "id": "f3b95fcf",
   "metadata": {},
   "outputs": [],
   "source": [
    "cat_data_set = tf.data.Dataset.list_files(str(cat_file/\"*\"), shuffle=False)\n",
    "dog_data_set = tf.data.Dataset.list_files(str(dog_file/\"*\"), shuffle=False)\n",
    "\n",
    "AUTOTUNE = tf.data.AUTOTUNE\n",
    "\n",
    "cat_data_set = cat_data_set.map(process_data, num_parallel_calls=AUTOTUNE)\n",
    "dog_data_set = dog_data_set.map(process_data, num_parallel_calls=AUTOTUNE)\n",
    "\n",
    "cat_data_set = configure_inputs_train(cat_data_set)\n",
    "dog_data_set = configure_inputs_train(dog_data_set)\n"
   ]
  },
  {
   "cell_type": "code",
   "execution_count": 15,
   "id": "7dc17523",
   "metadata": {},
   "outputs": [
    {
     "name": "stdout",
     "output_type": "stream",
     "text": [
      "375/375 [==============================] - 21s 57ms/step\n",
      "375/375 [==============================] - 22s 58ms/step\n"
     ]
    }
   ],
   "source": [
    "cat_predictions = model.predict(cat_data_set)\n",
    "cat_predictions = cat_predictions[:, 0]\n",
    "dog_predictions = model.predict(dog_data_set)\n",
    "dog_predictions = dog_predictions[:, 1]"
   ]
  },
  {
   "cell_type": "code",
   "execution_count": 17,
   "id": "df25679f",
   "metadata": {},
   "outputs": [
    {
     "name": "stdout",
     "output_type": "stream",
     "text": [
      "Correctly predicted 2945 out of 3000\n",
      "Correctly predicted 2888 out of 3000\n"
     ]
    }
   ],
   "source": [
    "print(f\"Correctly predicted {len(np.where(cat_predictions > 0.5)[0])} out of {len(cat_predictions)}\")\n",
    "print(f\"Correctly predicted {len(np.where(dog_predictions > 0.5)[0])} out of {len(dog_predictions)}\")"
   ]
  },
  {
   "cell_type": "code",
   "execution_count": 18,
   "id": "08403adc",
   "metadata": {},
   "outputs": [
    {
     "name": "stdout",
     "output_type": "stream",
     "text": [
      "Cat accuracy: 98.16666666666667\n",
      "Dog accuracy: 96.26666666666667\n"
     ]
    }
   ],
   "source": [
    "# Displaying the Accuracy\n",
    "print(f\"Cat accuracy: {len(np.where(cat_predictions > 0.5)[0]) /len(cat_predictions)*100}\")\n",
    "print(f\"Dog accuracy: {len(np.where(dog_predictions > 0.5)[0]) /len(dog_predictions)*100}\")"
   ]
  },
  {
   "cell_type": "code",
   "execution_count": 24,
   "id": "cf128f2a",
   "metadata": {},
   "outputs": [],
   "source": [
    "net_activation = (np.mean(cat_predictions) + np.mean(dog_predictions))/2"
   ]
  },
  {
   "cell_type": "code",
   "execution_count": 25,
   "id": "7328b029",
   "metadata": {},
   "outputs": [
    {
     "name": "stdout",
     "output_type": "stream",
     "text": [
      "Cat Activatin Rate: 0.794951856136322\n",
      "Dog Activatin Rate: 0.8449637293815613\n",
      "Net Activatin Rate: 0.8199577927589417\n"
     ]
    }
   ],
   "source": [
    "# Displaying the Activation rate\n",
    "print(f\"Cat Activatin Rate: {np.mean(cat_predictions)}\")\n",
    "print(f\"Dog Activatin Rate: {np.mean(dog_predictions)}\")\n",
    "print(f\"Net Activatin Rate: {net_activation}\")"
   ]
  },
  {
   "cell_type": "code",
   "execution_count": 26,
   "id": "6981f7d8",
   "metadata": {},
   "outputs": [],
   "source": [
    "cat_not_predicted = []\n",
    "dog_not_predicted = []\n",
    "for i in range(len(cat_file_list)):\n",
    "    if cat_predictions[i] < 0.5:\n",
    "        cat_not_predicted.append((i, cat_predictions[i]))\n",
    "for i in range(len(dog_file_list)):\n",
    "    if dog_predictions[i] < 0.5:\n",
    "        dog_not_predicted.append((i, dog_predictions[i]))"
   ]
  },
  {
   "cell_type": "code",
   "execution_count": 27,
   "id": "ae9d12df",
   "metadata": {},
   "outputs": [
    {
     "name": "stdout",
     "output_type": "stream",
     "text": [
      "1842\n",
      "1164\n"
     ]
    }
   ],
   "source": [
    "# Displaying the number of wrong predictions in each class\n",
    "print(len(cat_not_predicted))\n",
    "print(len(dog_not_predicted))"
   ]
  },
  {
   "cell_type": "code",
   "execution_count": 35,
   "id": "56ea4e36",
   "metadata": {},
   "outputs": [
    {
     "name": "stdout",
     "output_type": "stream",
     "text": [
      "D:\\Samsung Prism\\Datasets\\Replica\\Cat\\10009.jpg\n",
      "D:\\Samsung Prism\\Datasets\\Replica\\Cat\\10019.jpg\n",
      "D:\\Samsung Prism\\Datasets\\Replica\\Cat\\10023.jpg\n",
      "D:\\Samsung Prism\\Datasets\\Replica\\Cat\\10036.jpg\n",
      "D:\\Samsung Prism\\Datasets\\Replica\\Cat\\10047.jpg\n",
      "D:\\Samsung Prism\\Datasets\\Replica\\Cat\\10051.jpg\n",
      "D:\\Samsung Prism\\Datasets\\Replica\\Cat\\10053.jpg\n",
      "D:\\Samsung Prism\\Datasets\\Replica\\Cat\\10060.jpg\n",
      "D:\\Samsung Prism\\Datasets\\Replica\\Cat\\10077.jpg\n",
      "D:\\Samsung Prism\\Datasets\\Replica\\Cat\\10094.jpg\n",
      "D:\\Samsung Prism\\Datasets\\Replica\\Cat\\10096.jpg\n",
      "D:\\Samsung Prism\\Datasets\\Replica\\Cat\\10114.jpg\n",
      "D:\\Samsung Prism\\Datasets\\Replica\\Cat\\10137.jpg\n",
      "D:\\Samsung Prism\\Datasets\\Replica\\Cat\\10138.jpg\n",
      "D:\\Samsung Prism\\Datasets\\Replica\\Cat\\10146.jpg\n",
      "D:\\Samsung Prism\\Datasets\\Replica\\Cat\\1015.jpg\n",
      "D:\\Samsung Prism\\Datasets\\Replica\\Cat\\10152.jpg\n",
      "D:\\Samsung Prism\\Datasets\\Replica\\Cat\\10156.jpg\n",
      "D:\\Samsung Prism\\Datasets\\Replica\\Cat\\10159.jpg\n",
      "D:\\Samsung Prism\\Datasets\\Replica\\Cat\\10162.jpg\n",
      "D:\\Samsung Prism\\Datasets\\Replica\\Cat\\10173.jpg\n",
      "D:\\Samsung Prism\\Datasets\\Replica\\Cat\\10175.jpg\n",
      "D:\\Samsung Prism\\Datasets\\Replica\\Cat\\10189.jpg\n",
      "D:\\Samsung Prism\\Datasets\\Replica\\Cat\\10190.jpg\n",
      "D:\\Samsung Prism\\Datasets\\Replica\\Cat\\10191.jpg\n",
      "D:\\Samsung Prism\\Datasets\\Replica\\Cat\\102.jpg\n",
      "D:\\Samsung Prism\\Datasets\\Replica\\Cat\\10201.jpg\n",
      "D:\\Samsung Prism\\Datasets\\Replica\\Cat\\10215.jpg\n",
      "D:\\Samsung Prism\\Datasets\\Replica\\Cat\\10259.jpg\n",
      "D:\\Samsung Prism\\Datasets\\Replica\\Cat\\1026.jpg\n",
      "D:\\Samsung Prism\\Datasets\\Replica\\Cat\\10298.jpg\n",
      "D:\\Samsung Prism\\Datasets\\Replica\\Cat\\10307.jpg\n",
      "D:\\Samsung Prism\\Datasets\\Replica\\Cat\\1031.jpg\n",
      "D:\\Samsung Prism\\Datasets\\Replica\\Cat\\10317.jpg\n",
      "D:\\Samsung Prism\\Datasets\\Replica\\Cat\\10334.jpg\n",
      "D:\\Samsung Prism\\Datasets\\Replica\\Cat\\10337.jpg\n",
      "D:\\Samsung Prism\\Datasets\\Replica\\Cat\\10341.jpg\n",
      "D:\\Samsung Prism\\Datasets\\Replica\\Cat\\10368.jpg\n",
      "D:\\Samsung Prism\\Datasets\\Replica\\Cat\\10386.jpg\n",
      "D:\\Samsung Prism\\Datasets\\Replica\\Cat\\10395.jpg\n"
     ]
    }
   ],
   "source": [
    "# Displaying the path of incorrectly classified images\n",
    "for i in range(0, 40):\n",
    "    print(cat_file_list[cat_not_predicted[i][0]])"
   ]
  },
  {
   "cell_type": "code",
   "execution_count": null,
   "id": "cfb6797e",
   "metadata": {},
   "outputs": [],
   "source": []
  }
 ],
 "metadata": {
  "kernelspec": {
   "display_name": "Python 3 (ipykernel)",
   "language": "python",
   "name": "python3"
  },
  "language_info": {
   "codemirror_mode": {
    "name": "ipython",
    "version": 3
   },
   "file_extension": ".py",
   "mimetype": "text/x-python",
   "name": "python",
   "nbconvert_exporter": "python",
   "pygments_lexer": "ipython3",
   "version": "3.10.9"
  }
 },
 "nbformat": 4,
 "nbformat_minor": 5
}
