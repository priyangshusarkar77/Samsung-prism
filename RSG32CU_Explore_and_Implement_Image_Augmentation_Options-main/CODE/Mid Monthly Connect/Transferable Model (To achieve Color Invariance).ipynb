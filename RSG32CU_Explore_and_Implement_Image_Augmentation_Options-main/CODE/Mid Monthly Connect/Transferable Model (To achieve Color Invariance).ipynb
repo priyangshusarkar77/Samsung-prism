{
 "cells": [
  {
   "cell_type": "markdown",
   "id": "91e2ebc6",
   "metadata": {},
   "source": [
    "Description: In this notebook file, you can find the code regarding how to make a normal model into color invariant or color insensitive model. In this file, you have to input a sequential model and it outputs same sequential model but will additional layers added at the begining of the model due to which the color invariance can be achieved.\n",
    "\n",
    "Note: We have tested this approach on VGG style architecture and we are confident that the improvement in the results can be achieved under 5 seconds (as we only need to transfer weights). But, in the resnet style architecture, due to residual function nature we are not able to analyze the direct impact on this approach."
   ]
  },
  {
   "cell_type": "code",
   "execution_count": 1,
   "id": "2270cb37",
   "metadata": {},
   "outputs": [],
   "source": [
    "# Importing the required libraries\n",
    "from tensorflow.keras.models import load_model\n",
    "import cv2 as cv\n",
    "import numpy as np\n",
    "import matplotlib.pyplot as plt\n",
    "from tensorflow.keras.layers import Conv2D, Input, Add\n",
    "import tensorflow as tf\n",
    "from tensorflow.keras.models import Model\n",
    "import matplotlib.pyplot as plt"
   ]
  },
  {
   "cell_type": "code",
   "execution_count": 2,
   "id": "5aee98dd",
   "metadata": {},
   "outputs": [],
   "source": [
    "# Loading the VGG style model which is already trained on the training dataset\n",
    "model = load_model(input_path)"
   ]
  },
  {
   "cell_type": "code",
   "execution_count": 3,
   "id": "45396795",
   "metadata": {},
   "outputs": [
    {
     "name": "stdout",
     "output_type": "stream",
     "text": [
      "Model: \"sequential\"\n",
      "_________________________________________________________________\n",
      " Layer (type)                Output Shape              Param #   \n",
      "=================================================================\n",
      " conv2d (Conv2D)             (None, 298, 298, 32)      896       \n",
      "                                                                 \n",
      " leaky_re_lu (LeakyReLU)     (None, 298, 298, 32)      0         \n",
      "                                                                 \n",
      " depthwise_conv2d (Depthwise  (None, 298, 298, 32)     128       \n",
      " Conv2D)                                                         \n",
      "                                                                 \n",
      " max_pooling2d (MaxPooling2D  (None, 149, 149, 32)     0         \n",
      " )                                                               \n",
      "                                                                 \n",
      " dropout (Dropout)           (None, 149, 149, 32)      0         \n",
      "                                                                 \n",
      " conv2d_1 (Conv2D)           (None, 147, 147, 64)      18496     \n",
      "                                                                 \n",
      " leaky_re_lu_1 (LeakyReLU)   (None, 147, 147, 64)      0         \n",
      "                                                                 \n",
      " depthwise_conv2d_1 (Depthwi  (None, 147, 147, 64)     256       \n",
      " seConv2D)                                                       \n",
      "                                                                 \n",
      " max_pooling2d_1 (MaxPooling  (None, 73, 73, 64)       0         \n",
      " 2D)                                                             \n",
      "                                                                 \n",
      " dropout_1 (Dropout)         (None, 73, 73, 64)        0         \n",
      "                                                                 \n",
      " conv2d_2 (Conv2D)           (None, 71, 71, 128)       73856     \n",
      "                                                                 \n",
      " leaky_re_lu_2 (LeakyReLU)   (None, 71, 71, 128)       0         \n",
      "                                                                 \n",
      " depthwise_conv2d_2 (Depthwi  (None, 71, 71, 128)      512       \n",
      " seConv2D)                                                       \n",
      "                                                                 \n",
      " max_pooling2d_2 (MaxPooling  (None, 35, 35, 128)      0         \n",
      " 2D)                                                             \n",
      "                                                                 \n",
      " dropout_2 (Dropout)         (None, 35, 35, 128)       0         \n",
      "                                                                 \n",
      " conv2d_3 (Conv2D)           (None, 34, 34, 256)       131328    \n",
      "                                                                 \n",
      " leaky_re_lu_3 (LeakyReLU)   (None, 34, 34, 256)       0         \n",
      "                                                                 \n",
      " depthwise_conv2d_3 (Depthwi  (None, 34, 34, 256)      1024      \n",
      " seConv2D)                                                       \n",
      "                                                                 \n",
      " max_pooling2d_3 (MaxPooling  (None, 17, 17, 256)      0         \n",
      " 2D)                                                             \n",
      "                                                                 \n",
      " dropout_3 (Dropout)         (None, 17, 17, 256)       0         \n",
      "                                                                 \n",
      " conv2d_4 (Conv2D)           (None, 16, 16, 512)       524800    \n",
      "                                                                 \n",
      " leaky_re_lu_4 (LeakyReLU)   (None, 16, 16, 512)       0         \n",
      "                                                                 \n",
      " depthwise_conv2d_4 (Depthwi  (None, 16, 16, 512)      2048      \n",
      " seConv2D)                                                       \n",
      "                                                                 \n",
      " max_pooling2d_4 (MaxPooling  (None, 8, 8, 512)        0         \n",
      " 2D)                                                             \n",
      "                                                                 \n",
      " global_max_pooling2d (Globa  (None, 512)              0         \n",
      " lMaxPooling2D)                                                  \n",
      "                                                                 \n",
      " dense (Dense)               (None, 3)                 1539      \n",
      "                                                                 \n",
      "=================================================================\n",
      "Total params: 754,883\n",
      "Trainable params: 750,915\n",
      "Non-trainable params: 3,968\n",
      "_________________________________________________________________\n"
     ]
    }
   ],
   "source": [
    "model.summary()"
   ]
  },
  {
   "cell_type": "code",
   "execution_count": 4,
   "id": "222d6a86",
   "metadata": {},
   "outputs": [],
   "source": [
    "# Here, we are getting the weights of the first layer. This is because, in the first layer only, we have associations with \n",
    "# color channels\n",
    "weights_of_first_layer = model.layers[0].get_weights()"
   ]
  },
  {
   "cell_type": "code",
   "execution_count": 5,
   "id": "469b4a3d",
   "metadata": {},
   "outputs": [],
   "source": [
    "# Separating the kernels and bias of the first layer\n",
    "kernels = weights_of_first_layer[0]\n",
    "bias = weights_of_first_layer[1]"
   ]
  },
  {
   "cell_type": "code",
   "execution_count": 6,
   "id": "e4ab3259",
   "metadata": {},
   "outputs": [
    {
     "name": "stdout",
     "output_type": "stream",
     "text": [
      "The shape of the kernels (3, 3, 3, 32)\n",
      "The shape of the bias (32,)\n"
     ]
    }
   ],
   "source": [
    "print(f\"The shape of the kernels {kernels.shape}\")\n",
    "print(f\"The shape of the bias {bias.shape}\")"
   ]
  },
  {
   "cell_type": "code",
   "execution_count": 7,
   "id": "0ffbb297",
   "metadata": {},
   "outputs": [
    {
     "data": {
      "image/png": "[encoded data removed]",
      "text/plain": [
       "<Figure size 640x480 with 1 Axes>"
      ]
     },
     "metadata": {},
     "output_type": "display_data"
    },
    {
     "data": {
      "image/png": "[encoded data removed]",
      "text/plain": [
       "<Figure size 640x480 with 1 Axes>"
      ]
     },
     "metadata": {},
     "output_type": "display_data"
    },
    {
     "data": {
      "image/png": "[encoded data removed]",
      "text/plain": [
       "<Figure size 640x480 with 1 Axes>"
      ]
     },
     "metadata": {},
     "output_type": "display_data"
    },
    {
     "data": {
      "text/plain": [
       "<Figure size 640x480 with 0 Axes>"
      ]
     },
     "metadata": {},
     "output_type": "display_data"
    }
   ],
   "source": [
    "# Displaying the first set of kernels which are associated for each color channel\n",
    "colors = [\"Red\", \"Green\", \"Blue\"]\n",
    "for i in range(3):\n",
    "    plt.title(colors[i])\n",
    "    plt.imshow(kernels[:,:, i, 0])\n",
    "    plt.figure()"
   ]
  },
  {
   "cell_type": "code",
   "execution_count": 8,
   "id": "9199c306",
   "metadata": {},
   "outputs": [],
   "source": [
    "# Creating dummy arrays in the same shape as the kernels before and initializing everything wit zero\n",
    "new_kernel1 = np.zeros(kernels.shape)\n",
    "new_kernel2 = np.zeros(kernels.shape)\n",
    "new_kernel3 = np.zeros(kernels.shape)\n",
    "new_kernel4 = np.zeros(kernels.shape)\n",
    "new_kernel5 = np.zeros(kernels.shape)"
   ]
  },
  {
   "cell_type": "code",
   "execution_count": 9,
   "id": "7c73d393",
   "metadata": {},
   "outputs": [],
   "source": [
    "# Now, to achive color invariance, we need to arrage kernels in all combinations of RGB. So, each combination is associated \n",
    "# with each new layer which are going to create.\n",
    "# Combinations include: RBG, GRB, GBR, BRG, BGR"
   ]
  },
  {
   "cell_type": "code",
   "execution_count": 10,
   "id": "65cbed7e",
   "metadata": {},
   "outputs": [],
   "source": [
    "# Initializing the new kernel weights with appropriate color ordering\n",
    "\n",
    "# RBG\n",
    "new_kernel1[:, :, 0, :] = kernels[:, :, 0, :]\n",
    "new_kernel1[:, :, 1, :] = kernels[:, :, 2, :]\n",
    "new_kernel1[:, :, 2, :] = kernels[:, :, 1, :]\n",
    "\n",
    "# GRB\n",
    "new_kernel2[:, :, 0, :] = kernels[:, :, 1, :]\n",
    "new_kernel2[:, :, 1, :] = kernels[:, :, 0, :]\n",
    "new_kernel2[:, :, 2, :] = kernels[:, :, 2, :]\n",
    "\n",
    "# GBR\n",
    "new_kernel3[:, :, 0, :] = kernels[:, :, 1, :]\n",
    "new_kernel3[:, :, 1, :] = kernels[:, :, 2, :]\n",
    "new_kernel3[:, :, 2, :] = kernels[:, :, 0, :]\n",
    "\n",
    "# BRG\n",
    "new_kernel4[:, :, 0, :] = kernels[:, :, 2, :]\n",
    "new_kernel4[:, :, 1, :] = kernels[:, :, 0, :]\n",
    "new_kernel4[:, :, 2, :] = kernels[:, :, 1, :]\n",
    "\n",
    "# BGR\n",
    "new_kernel5[:, :, 0, :] = kernels[:, :, 2, :]\n",
    "new_kernel5[:, :, 1, :] = kernels[:, :, 1, :]\n",
    "new_kernel5[:, :, 2, :] = kernels[:, :, 0, :]"
   ]
  },
  {
   "cell_type": "code",
   "execution_count": 11,
   "id": "bcb9c152",
   "metadata": {},
   "outputs": [],
   "source": [
    "# Grouping the weights and biases of each layer so that new layers can be initialized with them\n",
    "\n",
    "weights1 = [new_kernel1, bias]\n",
    "weights2 = [new_kernel2, bias]\n",
    "weights3 = [new_kernel3, bias]\n",
    "weights4 = [new_kernel4, bias]\n",
    "weights5 = [new_kernel5, bias]"
   ]
  },
  {
   "cell_type": "code",
   "execution_count": 12,
   "id": "1d5a4fec",
   "metadata": {},
   "outputs": [
    {
     "data": {
      "image/png": "[encoded data removed]",
      "text/plain": [
       "<Figure size 640x480 with 1 Axes>"
      ]
     },
     "metadata": {},
     "output_type": "display_data"
    },
    {
     "data": {
      "image/png": "[encoded data removed]",
      "text/plain": [
       "<Figure size 640x480 with 1 Axes>"
      ]
     },
     "metadata": {},
     "output_type": "display_data"
    },
    {
     "data": {
      "image/png": "[encoded data removed]",
      "text/plain": [
       "<Figure size 640x480 with 1 Axes>"
      ]
     },
     "metadata": {},
     "output_type": "display_data"
    },
    {
     "data": {
      "text/plain": [
       "<Figure size 640x480 with 0 Axes>"
      ]
     },
     "metadata": {},
     "output_type": "display_data"
    }
   ],
   "source": [
    "# Displaying the kernels in RBG order which are associated with weights1\n",
    "colors = [\"Red\", \"Green\", \"Blue\"]\n",
    "for i in range(3):\n",
    "    plt.title(colors[i])\n",
    "    plt.imshow(weights1[0][:,:, i, 0])\n",
    "    plt.figure()"
   ]
  },
  {
   "cell_type": "code",
   "execution_count": 13,
   "id": "5b52ddee",
   "metadata": {},
   "outputs": [],
   "source": [
    "n_filters = model.layers[0].filters\n",
    "kernel_size = model.layers[0].kernel_size\n",
    "strides = model.layers[0].strides\n",
    "padding = model.layers[0].padding\n",
    "input_size = model.layers[0].input_shape"
   ]
  },
  {
   "cell_type": "code",
   "execution_count": 14,
   "id": "7a7e54e4",
   "metadata": {},
   "outputs": [],
   "source": [
    "# Here, we are building the instanced on each new layer\n",
    "\n",
    "original = Conv2D(filters=n_filters, kernel_size=kernel_size, strides=strides, padding=padding, name=\"rgb\")\n",
    "original.build(input_size[1:])\n",
    "original.set_weights(weights_of_first_layer)\n",
    "\n",
    "\n",
    "RBG_layer = Conv2D(filters=n_filters, kernel_size=kernel_size, strides=strides, padding=padding, name=\"rbg\")\n",
    "RBG_layer.build(input_size[1:])\n",
    "RBG_layer.set_weights(weights1)\n",
    "\n",
    "GRB_layer = Conv2D(filters=n_filters, kernel_size=kernel_size, strides=strides, padding=padding, name=\"grb\")\n",
    "GRB_layer.build(input_size[1:])\n",
    "GRB_layer.set_weights(weights2)\n",
    "\n",
    "\n",
    "GBR_layer = Conv2D(filters=n_filters, kernel_size=kernel_size, strides=strides, padding=padding, name=\"gbr\")\n",
    "GBR_layer.build(input_size[1:])\n",
    "GBR_layer.set_weights(weights3)\n",
    "\n",
    "\n",
    "BGR_layer = Conv2D(filters=n_filters, kernel_size=kernel_size, strides=strides, padding=padding, name=\"bgr\")\n",
    "BGR_layer.build(input_size[1:])\n",
    "BGR_layer.set_weights(weights4)\n",
    "\n",
    "BRG_layer = Conv2D(filters=n_filters, kernel_size=kernel_size, strides=strides, padding=padding, name=\"brg\")\n",
    "BRG_layer.build(input_size[1:])\n",
    "BRG_layer.set_weights(weights5)"
   ]
  },
  {
   "cell_type": "code",
   "execution_count": 15,
   "id": "a1890b66",
   "metadata": {},
   "outputs": [],
   "source": [
    "# Here, we are defining the sequence of how the data should be traversed\n",
    "\n",
    "input_layer = Input((300, 300, 3))\n",
    "original = original(input_layer)\n",
    "RBG_layer = RBG_layer(input_layer)\n",
    "GRB_layer = GRB_layer(input_layer)\n",
    "GBR_layer = GBR_layer(input_layer)\n",
    "BGR_layer = BGR_layer(input_layer)\n",
    "BRG_layer = BRG_layer(input_layer)\n",
    "output = Add()([original, RBG_layer, GRB_layer, GBR_layer, BGR_layer, BRG_layer])"
   ]
  },
  {
   "cell_type": "code",
   "execution_count": 16,
   "id": "5ec82eed",
   "metadata": {},
   "outputs": [],
   "source": [
    "# By now, we have made the new block which is color invariant. Now, we have connect that with the rest of the model\n",
    "\n",
    "for layer in model.layers[1:]:\n",
    "    output = layer(output)"
   ]
  },
  {
   "cell_type": "code",
   "execution_count": 17,
   "id": "82e5a8c4",
   "metadata": {},
   "outputs": [],
   "source": [
    "# Creating a new model with the respective input and output layers\n",
    "new_model = Model(inputs=input_layer, outputs=output)\n",
    "new_model.compile(optimizer=\"adam\", metrics=[\"accuracy\"], loss=[\"categorical_crossentropy\"])\n",
    "new_model.save(save_path)"
   ]
  },
  {
   "cell_type": "code",
   "execution_count": null,
   "id": "d3c85c54",
   "metadata": {},
   "outputs": [],
   "source": []
  }
 ],
 "metadata": {
  "kernelspec": {
   "display_name": "Python 3 (ipykernel)",
   "language": "python",
   "name": "python3"
  },
  "language_info": {
   "codemirror_mode": {
    "name": "ipython",
    "version": 3
   },
   "file_extension": ".py",
   "mimetype": "text/x-python",
   "name": "python",
   "nbconvert_exporter": "python",
   "pygments_lexer": "ipython3",
   "version": "3.10.9"
  }
 },
 "nbformat": 4,
 "nbformat_minor": 5
}
